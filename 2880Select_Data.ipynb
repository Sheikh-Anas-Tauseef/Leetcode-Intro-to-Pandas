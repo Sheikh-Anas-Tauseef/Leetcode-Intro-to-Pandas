{
 "cells": [
  {
   "cell_type": "markdown",
   "id": "3743bbef-890b-4c82-be41-54fc14de0157",
   "metadata": {},
   "source": [
    "### 2880 Select Data\n",
    "\n",
    "## Problem Statement\n",
    "\n",
    "Write a solution to select the **name** and **age** of the student with **student_id = 101** from the given DataFrame `students`.\n",
    "\n",
    "### DataFrame `students`:\n",
    "\n",
    "\n",
    "The result should contain only the **name** and **age** of the student with `student_id = 101`.\n",
    "\n"
   ]
  },
  {
   "cell_type": "code",
   "execution_count": 1,
   "id": "f31e6e0d-58c2-47a6-8220-448a4878b10c",
   "metadata": {},
   "outputs": [],
   "source": [
    "import pandas as pd\n",
    "\n",
    "def selectData(students: pd.DataFrame) -> pd.DataFrame:\n",
    "    return students.loc[students['student_id'] == 101, ['name', 'age']]"
   ]
  },
  {
   "cell_type": "markdown",
   "id": "6e5275c5-b430-4dc4-a931-4f00d0b1965d",
   "metadata": {},
   "source": [
    "\n",
    "The result should contain only the **name** and **age** of the student with `student_id = 101`.\n",
    "\n",
    "## Example\n",
    "\n",
    "### **Input:**\n",
    "```python\n",
    "import pandas as pd\n",
    "\n",
    "# DataFrame creation\n",
    "data = {\n",
    "    'student_id': [101, 53, 128, 3],\n",
    "    'name': ['Ulysses', 'William', 'Henry', 'Henry'],\n",
    "    'age': [13, 10, 6, 11]\n",
    "}\n",
    "\n",
    "students = pd.DataFrame(data)\n"
   ]
  },
  {
   "cell_type": "code",
   "execution_count": null,
   "id": "f751d402-48d9-4f80-80da-0826385bf0a2",
   "metadata": {},
   "outputs": [],
   "source": []
  },
  {
   "cell_type": "code",
   "execution_count": null,
   "id": "8d64c75a-bb59-4d1c-8633-ed7c20035593",
   "metadata": {},
   "outputs": [],
   "source": []
  }
 ],
 "metadata": {
  "kernelspec": {
   "display_name": "Python 3 (ipykernel)",
   "language": "python",
   "name": "python3"
  },
  "language_info": {
   "codemirror_mode": {
    "name": "ipython",
    "version": 3
   },
   "file_extension": ".py",
   "mimetype": "text/x-python",
   "name": "python",
   "nbconvert_exporter": "python",
   "pygments_lexer": "ipython3",
   "version": "3.12.2"
  }
 },
 "nbformat": 4,
 "nbformat_minor": 5
}
