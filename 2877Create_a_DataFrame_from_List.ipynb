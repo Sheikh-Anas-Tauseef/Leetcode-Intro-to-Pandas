{
 "cells": [
  {
   "cell_type": "markdown",
   "id": "278a461c-b073-49de-bb2f-d318ef3fcea2",
   "metadata": {},
   "source": [
    "# 2877 Create a DataFrame from List\n",
    "\n",
    "## Problem Statement\n",
    "\n",
    "Write a solution to create a **DataFrame** from a **2D list** called `student_data`.  \n",
    "This 2D list contains the **IDs** and **ages** of some students.\n",
    "\n",
    "The **DataFrame** should have two columns:\n",
    "- `student_id`\n",
    "- `age`\n",
    "\n",
    "The order of the DataFrame should be the **same** as the original list.\n",
    "\n",
    "## Example\n",
    "\n",
    "### **Input:**\n",
    "```python\n",
    "student_data = [\n",
    "  [1, 15],\n",
    "  [2, 11],\n",
    "  [3, 11],\n",
    "  [4, 20]\n",
    "]\n"
   ]
  },
  {
   "cell_type": "code",
   "execution_count": 1,
   "id": "a22dc29d-47a1-4656-a324-de4d7a3ae1b1",
   "metadata": {},
   "outputs": [],
   "source": [
    "import pandas as pd\n",
    "\n",
    "def createDataFrame(student_data):\n",
    "    df = pd.DataFrame(student_data, columns=[\"student_id\", \"age\"])\n",
    "    return df\n"
   ]
  },
  {
   "cell_type": "markdown",
   "id": "b4fb8591-8056-4c62-a1b4-7d79d9f1521e",
   "metadata": {},
   "source": [
    "### Example Usage:"
   ]
  },
  {
   "cell_type": "code",
   "execution_count": 3,
   "id": "b0091434-0c43-420a-8854-51e4a8145c95",
   "metadata": {},
   "outputs": [
    {
     "name": "stdout",
     "output_type": "stream",
     "text": [
      "   student_id  age\n",
      "0           1   15\n",
      "1           2   11\n",
      "2           3   11\n",
      "3           4   20\n"
     ]
    }
   ],
   "source": [
    "student_data = [\n",
    "    [1, 15],\n",
    "    [2, 11],\n",
    "    [3, 11],\n",
    "    [4, 20]\n",
    "]\n",
    "\n",
    "df = createDataFrame(student_data)\n",
    "print(df)\n"
   ]
  },
  {
   "cell_type": "code",
   "execution_count": null,
   "id": "fa4cb7b3-fc15-454a-a967-55b5b48e9922",
   "metadata": {},
   "outputs": [],
   "source": []
  }
 ],
 "metadata": {
  "kernelspec": {
   "display_name": "Python 3 (ipykernel)",
   "language": "python",
   "name": "python3"
  },
  "language_info": {
   "codemirror_mode": {
    "name": "ipython",
    "version": 3
   },
   "file_extension": ".py",
   "mimetype": "text/x-python",
   "name": "python",
   "nbconvert_exporter": "python",
   "pygments_lexer": "ipython3",
   "version": "3.12.2"
  }
 },
 "nbformat": 4,
 "nbformat_minor": 5
}
