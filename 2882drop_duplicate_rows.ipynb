{
 "cells": [
  {
   "cell_type": "markdown",
   "id": "0348f93d-e235-419a-bdad-131e6678e5d6",
   "metadata": {},
   "source": [
    "### 2882 Example\n",
    "\n",
    "### **Input:**\n",
    "```python\n",
    "import pandas as pd\n",
    "\n",
    "# Create DataFrame\n",
    "data = {\n",
    "    'customer_id': [1, 2, 3, 4, 5, 6],\n",
    "    'name': ['Ella', 'David', 'Zachary', 'Alice', 'Finn', 'Violet'],\n",
    "    'email': [\n",
    "        'emily@example.com',\n",
    "        'michael@example.com',\n",
    "        'sarah@example.com',\n",
    "        'john@example.com',\n",
    "        'john@example.com',\n",
    "        'alice@example.com'\n",
    "    ]\n",
    "}\n",
    "\n",
    "customers = pd.DataFrame(data)\n"
   ]
  },
  {
   "cell_type": "code",
   "execution_count": 1,
   "id": "bfa1deee-c876-4fe4-967f-d8a31c3a7c25",
   "metadata": {},
   "outputs": [],
   "source": [
    "import pandas as pd\n",
    "\n",
    "def dropDuplicateEmails(customers: pd.DataFrame) -> pd.DataFrame:\n",
    "    return customers.drop_duplicates(subset=['email'])   "
   ]
  },
  {
   "cell_type": "code",
   "execution_count": null,
   "id": "b56190dd-c721-48e0-93d1-408956c34647",
   "metadata": {},
   "outputs": [],
   "source": []
  }
 ],
 "metadata": {
  "kernelspec": {
   "display_name": "Python 3 (ipykernel)",
   "language": "python",
   "name": "python3"
  },
  "language_info": {
   "codemirror_mode": {
    "name": "ipython",
    "version": 3
   },
   "file_extension": ".py",
   "mimetype": "text/x-python",
   "name": "python",
   "nbconvert_exporter": "python",
   "pygments_lexer": "ipython3",
   "version": "3.12.2"
  }
 },
 "nbformat": 4,
 "nbformat_minor": 5
}
