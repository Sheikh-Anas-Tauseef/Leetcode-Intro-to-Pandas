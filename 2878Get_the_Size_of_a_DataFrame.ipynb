{
 "cells": [
  {
   "cell_type": "markdown",
   "id": "a7ac1f65-844e-4147-b90b-02d8f7eafa46",
   "metadata": {},
   "source": [
    "# 2878 Get the Size of a DataFrame\n",
    "\n",
    "## Problem Statement\n",
    "\n",
    "You are given a **DataFrame** named `players` with the following columns:\n",
    "\n",
    "| Column Name | Type   |\n",
    "|-------------|--------|\n",
    "| player_id   | int    |\n",
    "| name        | object |\n",
    "| age         | int    |\n",
    "| position    | object |\n",
    "| ...         | ...    |\n",
    "\n",
    "Write a solution to calculate and display the **number of rows** and **number of columns** in the `players` DataFrame.\n",
    "\n",
    "### **Return Format**:\n",
    "The result should be returned as an **array**:\n",
    "```python\n",
    "[number of rows, number of columns]\n"
   ]
  },
  {
   "cell_type": "code",
   "execution_count": 3,
   "id": "96966419-7bf9-464b-9f57-32cfe9a2b8d4",
   "metadata": {},
   "outputs": [],
   "source": [
    "import pandas as pd\n",
    "from typing import List  # Import List from typing module\n",
    "\n",
    "def getDataframeSize(players: pd.DataFrame) -> List[int]:\n",
    "    return list(players.shape)\n"
   ]
  },
  {
   "cell_type": "markdown",
   "id": "10ebfffb-279b-4b0a-950b-23c19511e2ec",
   "metadata": {},
   "source": [
    "### Example:"
   ]
  },
  {
   "cell_type": "code",
   "execution_count": 4,
   "id": "34ad40fa-8811-4adf-859d-4c1cb81f39ed",
   "metadata": {},
   "outputs": [
    {
     "name": "stdout",
     "output_type": "stream",
     "text": [
      "[10, 5]\n"
     ]
    }
   ],
   "source": [
    "# Creating a sample DataFrame\n",
    "data = {\n",
    "    \"player_id\": [846, 749, 155, 583, 388, 883, 355, 247, 761, 642],\n",
    "    \"name\": [\"Mason\", \"Riley\", \"Bob\", \"Isabella\", \"Zachary\", \"Ava\", \"Violet\", \"Thomas\", \"Jack\", \"Charlie\"],\n",
    "    \"age\": [21, 30, 28, 32, 24, 23, 18, 27, 33, 36],\n",
    "    \"position\": [\"Forward\", \"Winger\", \"Striker\", \"Goalkeeper\", \"Midfielder\", \"Defender\", \"Striker\", \"Striker\", \"Midfielder\", \"Center-back\"],\n",
    "    \"team\": [\"RealMadrid\", \"Barcelona\", \"ManchesterUnited\", \"Liverpool\", \"BayernMunich\", \"Chelsea\", \"Juventus\", \"ParisSaint-Germain\", \"ManchesterCity\", \"Arsenal\"]\n",
    "}\n",
    "\n",
    "# Creating DataFrame\n",
    "players_df = pd.DataFrame(data)\n",
    "\n",
    "# Calling the function\n",
    "result = getDataframeSize(players_df)\n",
    "\n",
    "# Printing the output\n",
    "print(result)"
   ]
  },
  {
   "cell_type": "code",
   "execution_count": null,
   "id": "b8489bb0-0f8a-4691-850c-3bd4978f9354",
   "metadata": {},
   "outputs": [],
   "source": []
  }
 ],
 "metadata": {
  "kernelspec": {
   "display_name": "Python 3 (ipykernel)",
   "language": "python",
   "name": "python3"
  },
  "language_info": {
   "codemirror_mode": {
    "name": "ipython",
    "version": 3
   },
   "file_extension": ".py",
   "mimetype": "text/x-python",
   "name": "python",
   "nbconvert_exporter": "python",
   "pygments_lexer": "ipython3",
   "version": "3.12.2"
  }
 },
 "nbformat": 4,
 "nbformat_minor": 5
}
