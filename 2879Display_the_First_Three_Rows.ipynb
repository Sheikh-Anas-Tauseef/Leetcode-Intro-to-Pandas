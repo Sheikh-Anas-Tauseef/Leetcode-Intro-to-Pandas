{
 "cells": [
  {
   "cell_type": "markdown",
   "id": "1593ca86-7eca-454d-a012-f3d74226cd90",
   "metadata": {},
   "source": [
    "### 2879 Display the First Three Rows\n",
    "\n",
    "## Problem Statement\n",
    "\n",
    "Write a solution to display the **first three rows** of a **DataFrame** named `employees`.\n",
    "\n",
    "### **Schema of the DataFrame:**\n",
    "| Column Name  | Type   |\n",
    "|-------------|--------|\n",
    "| employee_id | int    |\n",
    "| name        | object |\n",
    "| department  | object |\n",
    "| salary      | int    |\n",
    "\n",
    "## Example\n",
    "\n",
    "### **Input:**\n",
    "#### **DataFrame: employees**\n",
    "| employee_id | name      | department            | salary |\n",
    "|------------|-----------|----------------------|--------|\n",
    "| 3          | Bob       | Operations           | 48675  |\n",
    "| 90         | Alice     | Sales                | 11096  |\n",
    "| 9          | Tatiana   | Engineering          | 33805  |\n",
    "| 60         | Annabelle | InformationTechnology| 37678  |\n",
    "| 49         | Jonathan  | HumanResources       | 23793  |\n",
    "| 43         | Khaled    | Administration       | 40454  |\n",
    "\n",
    "### **Output:**\n",
    "| employee_id | name    | department  | salary |\n",
    "|------------|---------|------------|--------|\n",
    "| 3          | Bob     | Operations | 48675  |\n",
    "| 90         | Alice   | Sales      | 11096  |\n",
    "| 9          | Tatiana | Engineering | 33805  |\n",
    "\n",
    "### **Explanation:**\n",
    "Only the **first three rows** of the `employees` DataFrame are displayed.\n"
   ]
  },
  {
   "cell_type": "code",
   "execution_count": 2,
   "id": "c43d0626-510a-4cc9-9591-7898d9ee2ffd",
   "metadata": {},
   "outputs": [],
   "source": [
    "import pandas as pd\n",
    "\n",
    "def selectFirstRows(employees: pd.DataFrame) -> pd.DataFrame:\n",
    "    return employees.head(3)  \n",
    "    "
   ]
  },
  {
   "cell_type": "markdown",
   "id": "391edf02-2418-42be-9796-1d992b1fb878",
   "metadata": {},
   "source": [
    "### Example:"
   ]
  },
  {
   "cell_type": "code",
   "execution_count": 3,
   "id": "26907491-36c7-47ca-883d-0feb97bf562d",
   "metadata": {},
   "outputs": [
    {
     "name": "stdout",
     "output_type": "stream",
     "text": [
      "   employee_id     name   department  salary\n",
      "0            3      Bob   Operations   48675\n",
      "1           90    Alice        Sales   11096\n",
      "2            9  Tatiana  Engineering   33805\n"
     ]
    }
   ],
   "source": [
    "# Creating the employees DataFrame\n",
    "data = {\n",
    "    'employee_id': [3, 90, 9, 60, 49, 43],\n",
    "    'name': ['Bob', 'Alice', 'Tatiana', 'Annabelle', 'Jonathan', 'Khaled'],\n",
    "    'department': ['Operations', 'Sales', 'Engineering', 'InformationTechnology', 'HumanResources', 'Administration'],\n",
    "    'salary': [48675, 11096, 33805, 37678, 23793, 40454]\n",
    "}\n",
    "\n",
    "employees = pd.DataFrame(data)\n",
    "\n",
    "# Displaying the first 3 rows\n",
    "print(employees.head(3))"
   ]
  },
  {
   "cell_type": "code",
   "execution_count": null,
   "id": "c9ae6de0-e759-4e2e-9765-4ae0d6e08887",
   "metadata": {},
   "outputs": [],
   "source": []
  }
 ],
 "metadata": {
  "kernelspec": {
   "display_name": "Python 3 (ipykernel)",
   "language": "python",
   "name": "python3"
  },
  "language_info": {
   "codemirror_mode": {
    "name": "ipython",
    "version": 3
   },
   "file_extension": ".py",
   "mimetype": "text/x-python",
   "name": "python",
   "nbconvert_exporter": "python",
   "pygments_lexer": "ipython3",
   "version": "3.12.2"
  }
 },
 "nbformat": 4,
 "nbformat_minor": 5
}
